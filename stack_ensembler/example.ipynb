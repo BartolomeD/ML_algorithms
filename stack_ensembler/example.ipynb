{
 "cells": [
  {
   "cell_type": "code",
   "execution_count": 1,
   "metadata": {},
   "outputs": [],
   "source": [
    "from stack_ensembler import StackEnsemble\n",
    "\n",
    "import pandas as pd\n",
    "from sklearn.datasets import make_classification\n",
    "from sklearn.model_selection import train_test_split\n",
    "from sklearn.metrics import classification_report, accuracy_score\n",
    "\n",
    "from sklearn.ensemble import RandomForestClassifier\n",
    "from sklearn.neighbors import KNeighborsClassifier\n",
    "from sklearn.neural_network import MLPClassifier\n",
    "from sklearn.linear_model import LogisticRegression"
   ]
  },
  {
   "cell_type": "code",
   "execution_count": 2,
   "metadata": {},
   "outputs": [
    {
     "data": {
      "text/html": [
       "<div>\n",
       "<table border=\"1\" class=\"dataframe\">\n",
       "  <thead>\n",
       "    <tr style=\"text-align: right;\">\n",
       "      <th></th>\n",
       "      <th>0</th>\n",
       "      <th>1</th>\n",
       "      <th>2</th>\n",
       "      <th>3</th>\n",
       "      <th>4</th>\n",
       "    </tr>\n",
       "  </thead>\n",
       "  <tbody>\n",
       "    <tr>\n",
       "      <th>0</th>\n",
       "      <td>0.012068</td>\n",
       "      <td>-0.527895</td>\n",
       "      <td>-0.315075</td>\n",
       "      <td>0.024891</td>\n",
       "      <td>0.240546</td>\n",
       "    </tr>\n",
       "    <tr>\n",
       "      <th>1</th>\n",
       "      <td>-0.051266</td>\n",
       "      <td>-0.934581</td>\n",
       "      <td>-0.642412</td>\n",
       "      <td>-0.007287</td>\n",
       "      <td>0.462916</td>\n",
       "    </tr>\n",
       "    <tr>\n",
       "      <th>2</th>\n",
       "      <td>0.374295</td>\n",
       "      <td>1.167638</td>\n",
       "      <td>1.164010</td>\n",
       "      <td>0.228461</td>\n",
       "      <td>-0.736643</td>\n",
       "    </tr>\n",
       "    <tr>\n",
       "      <th>3</th>\n",
       "      <td>0.405975</td>\n",
       "      <td>1.189238</td>\n",
       "      <td>1.214381</td>\n",
       "      <td>0.250191</td>\n",
       "      <td>-0.762901</td>\n",
       "    </tr>\n",
       "    <tr>\n",
       "      <th>4</th>\n",
       "      <td>0.057043</td>\n",
       "      <td>0.766853</td>\n",
       "      <td>0.544567</td>\n",
       "      <td>0.016569</td>\n",
       "      <td>-0.387479</td>\n",
       "    </tr>\n",
       "  </tbody>\n",
       "</table>\n",
       "</div>"
      ],
      "text/plain": [
       "          0         1         2         3         4\n",
       "0  0.012068 -0.527895 -0.315075  0.024891  0.240546\n",
       "1 -0.051266 -0.934581 -0.642412 -0.007287  0.462916\n",
       "2  0.374295  1.167638  1.164010  0.228461 -0.736643\n",
       "3  0.405975  1.189238  1.214381  0.250191 -0.762901\n",
       "4  0.057043  0.766853  0.544567  0.016569 -0.387479"
      ]
     },
     "execution_count": 2,
     "metadata": {},
     "output_type": "execute_result"
    }
   ],
   "source": [
    "# generate toy dataset\n",
    "x_train, y_train = make_classification(n_samples=1000, n_features=5, n_informative=2, \n",
    "                                       n_redundant=3, random_state=42)\n",
    "\n",
    "# create train-test split\n",
    "x_train, x_test, y_train, y_test = train_test_split(x_train, y_train, test_size=0.25)\n",
    "\n",
    "# print dataset\n",
    "pd.DataFrame(x_train).head()"
   ]
  },
  {
   "cell_type": "code",
   "execution_count": 3,
   "metadata": {},
   "outputs": [
    {
     "name": "stdout",
     "output_type": "stream",
     "text": [
      "Getting predictions from RandomForestClassifier..\n",
      "Getting predictions from KNeighborsClassifier..\n",
      "Getting predictions from MLPClassifier..\n"
     ]
    },
    {
     "name": "stderr",
     "output_type": "stream",
     "text": [
      "/home/daniel/miniconda3/envs/three/lib/python3.5/site-packages/sklearn/neural_network/multilayer_perceptron.py:563: ConvergenceWarning: Stochastic Optimizer: Maximum iterations reached and the optimization hasn't converged yet.\n",
      "  % (), ConvergenceWarning)\n"
     ]
    },
    {
     "data": {
      "text/html": [
       "<div>\n",
       "<table border=\"1\" class=\"dataframe\">\n",
       "  <thead>\n",
       "    <tr style=\"text-align: right;\">\n",
       "      <th></th>\n",
       "      <th>0</th>\n",
       "      <th>1</th>\n",
       "      <th>2</th>\n",
       "      <th>3</th>\n",
       "      <th>4</th>\n",
       "      <th>5</th>\n",
       "      <th>6</th>\n",
       "      <th>7</th>\n",
       "      <th>8</th>\n",
       "      <th>9</th>\n",
       "      <th>10</th>\n",
       "    </tr>\n",
       "  </thead>\n",
       "  <tbody>\n",
       "    <tr>\n",
       "      <th>0</th>\n",
       "      <td>0.012068</td>\n",
       "      <td>-0.527895</td>\n",
       "      <td>-0.315075</td>\n",
       "      <td>0.024891</td>\n",
       "      <td>0.240546</td>\n",
       "      <td>0.0</td>\n",
       "      <td>1.0</td>\n",
       "      <td>0.2</td>\n",
       "      <td>0.8</td>\n",
       "      <td>0.537114</td>\n",
       "      <td>0.462886</td>\n",
       "    </tr>\n",
       "    <tr>\n",
       "      <th>1</th>\n",
       "      <td>-0.051266</td>\n",
       "      <td>-0.934581</td>\n",
       "      <td>-0.642412</td>\n",
       "      <td>-0.007287</td>\n",
       "      <td>0.462916</td>\n",
       "      <td>0.8</td>\n",
       "      <td>0.2</td>\n",
       "      <td>0.6</td>\n",
       "      <td>0.4</td>\n",
       "      <td>0.685577</td>\n",
       "      <td>0.314423</td>\n",
       "    </tr>\n",
       "    <tr>\n",
       "      <th>2</th>\n",
       "      <td>0.374295</td>\n",
       "      <td>1.167638</td>\n",
       "      <td>1.164010</td>\n",
       "      <td>0.228461</td>\n",
       "      <td>-0.736643</td>\n",
       "      <td>0.0</td>\n",
       "      <td>1.0</td>\n",
       "      <td>0.0</td>\n",
       "      <td>1.0</td>\n",
       "      <td>0.004568</td>\n",
       "      <td>0.995432</td>\n",
       "    </tr>\n",
       "    <tr>\n",
       "      <th>3</th>\n",
       "      <td>0.405975</td>\n",
       "      <td>1.189238</td>\n",
       "      <td>1.214381</td>\n",
       "      <td>0.250191</td>\n",
       "      <td>-0.762901</td>\n",
       "      <td>0.0</td>\n",
       "      <td>1.0</td>\n",
       "      <td>0.0</td>\n",
       "      <td>1.0</td>\n",
       "      <td>0.004114</td>\n",
       "      <td>0.995886</td>\n",
       "    </tr>\n",
       "    <tr>\n",
       "      <th>4</th>\n",
       "      <td>0.057043</td>\n",
       "      <td>0.766853</td>\n",
       "      <td>0.544567</td>\n",
       "      <td>0.016569</td>\n",
       "      <td>-0.387479</td>\n",
       "      <td>0.0</td>\n",
       "      <td>1.0</td>\n",
       "      <td>0.0</td>\n",
       "      <td>1.0</td>\n",
       "      <td>0.025173</td>\n",
       "      <td>0.974827</td>\n",
       "    </tr>\n",
       "  </tbody>\n",
       "</table>\n",
       "</div>"
      ],
      "text/plain": [
       "         0         1         2         3         4    5    6    7    8   \\\n",
       "0  0.012068 -0.527895 -0.315075  0.024891  0.240546  0.0  1.0  0.2  0.8   \n",
       "1 -0.051266 -0.934581 -0.642412 -0.007287  0.462916  0.8  0.2  0.6  0.4   \n",
       "2  0.374295  1.167638  1.164010  0.228461 -0.736643  0.0  1.0  0.0  1.0   \n",
       "3  0.405975  1.189238  1.214381  0.250191 -0.762901  0.0  1.0  0.0  1.0   \n",
       "4  0.057043  0.766853  0.544567  0.016569 -0.387479  0.0  1.0  0.0  1.0   \n",
       "\n",
       "         9         10  \n",
       "0  0.537114  0.462886  \n",
       "1  0.685577  0.314423  \n",
       "2  0.004568  0.995432  \n",
       "3  0.004114  0.995886  \n",
       "4  0.025173  0.974827  "
      ]
     },
     "execution_count": 3,
     "metadata": {},
     "output_type": "execute_result"
    }
   ],
   "source": [
    "# define first-level models\n",
    "models = [ \n",
    "    RandomForestClassifier(), \n",
    "    KNeighborsClassifier(),\n",
    "    MLPClassifier()\n",
    "]\n",
    "\n",
    "# get data with meta-features\n",
    "x_train_stack, x_test_stack = StackEnsemble(models, x_train, y_train, x_test, prob=True, orig_data=True)\n",
    "\n",
    "# print new dataframe\n",
    "pd.DataFrame(x_train_stack).head()"
   ]
  },
  {
   "cell_type": "code",
   "execution_count": 4,
   "metadata": {},
   "outputs": [
    {
     "name": "stdout",
     "output_type": "stream",
     "text": [
      "             precision    recall  f1-score   support\n",
      "\n",
      "          0       0.85      0.89      0.87       118\n",
      "          1       0.90      0.86      0.88       132\n",
      "\n",
      "avg / total       0.87      0.87      0.87       250\n",
      "\n",
      "0.872\n"
     ]
    }
   ],
   "source": [
    "# use logistic regression on original data\n",
    "model = LogisticRegression()\n",
    "preds = model.fit(x_train, y_train).predict(x_test)\n",
    "\n",
    "# print results\n",
    "print(classification_report(preds, y_test))\n",
    "print(accuracy_score(preds, y_test))"
   ]
  },
  {
   "cell_type": "code",
   "execution_count": 5,
   "metadata": {},
   "outputs": [
    {
     "name": "stdout",
     "output_type": "stream",
     "text": [
      "             precision    recall  f1-score   support\n",
      "\n",
      "          0       0.94      0.91      0.92       127\n",
      "          1       0.91      0.93      0.92       123\n",
      "\n",
      "avg / total       0.92      0.92      0.92       250\n",
      "\n",
      "0.924\n"
     ]
    }
   ],
   "source": [
    "# use logistic regression on data with meta-features\n",
    "preds = model.fit(x_train_stack, y_train).predict(x_test_stack)\n",
    "\n",
    "# print results\n",
    "print(classification_report(preds, y_test))\n",
    "print(accuracy_score(preds, y_test))"
   ]
  }
 ],
 "metadata": {
  "kernelspec": {
   "display_name": "Python 3",
   "language": "python",
   "name": "python3"
  },
  "language_info": {
   "codemirror_mode": {
    "name": "ipython",
    "version": 3
   },
   "file_extension": ".py",
   "mimetype": "text/x-python",
   "name": "python",
   "nbconvert_exporter": "python",
   "pygments_lexer": "ipython3",
   "version": "3.5.3"
  }
 },
 "nbformat": 4,
 "nbformat_minor": 2
}
