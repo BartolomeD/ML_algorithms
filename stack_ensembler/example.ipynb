{
 "cells": [
  {
   "cell_type": "code",
   "execution_count": 1,
   "metadata": {},
   "outputs": [],
   "source": [
    "from stack_ensembler import StackEnsemble\n",
    "\n",
    "import pandas as pd\n",
    "from sklearn.datasets import make_classification\n",
    "from sklearn.model_selection import train_test_split\n",
    "from sklearn.metrics import classification_report, accuracy_score\n",
    "\n",
    "from sklearn.ensemble import RandomForestClassifier\n",
    "from sklearn.neighbors import KNeighborsClassifier\n",
    "from sklearn.neural_network import MLPClassifier\n",
    "from sklearn.linear_model import LogisticRegression"
   ]
  },
  {
   "cell_type": "code",
   "execution_count": 2,
   "metadata": {},
   "outputs": [
    {
     "data": {
      "text/html": [
       "<div>\n",
       "<table border=\"1\" class=\"dataframe\">\n",
       "  <thead>\n",
       "    <tr style=\"text-align: right;\">\n",
       "      <th></th>\n",
       "      <th>0</th>\n",
       "      <th>1</th>\n",
       "      <th>2</th>\n",
       "      <th>3</th>\n",
       "      <th>4</th>\n",
       "    </tr>\n",
       "  </thead>\n",
       "  <tbody>\n",
       "    <tr>\n",
       "      <th>0</th>\n",
       "      <td>0.225824</td>\n",
       "      <td>1.195602</td>\n",
       "      <td>1.008493</td>\n",
       "      <td>0.122619</td>\n",
       "      <td>-0.673961</td>\n",
       "    </tr>\n",
       "    <tr>\n",
       "      <th>1</th>\n",
       "      <td>-1.829013</td>\n",
       "      <td>1.348138</td>\n",
       "      <td>-1.290046</td>\n",
       "      <td>-1.334966</td>\n",
       "      <td>0.303148</td>\n",
       "    </tr>\n",
       "    <tr>\n",
       "      <th>2</th>\n",
       "      <td>-0.659491</td>\n",
       "      <td>-0.177663</td>\n",
       "      <td>-0.878999</td>\n",
       "      <td>-0.460783</td>\n",
       "      <td>0.419505</td>\n",
       "    </tr>\n",
       "    <tr>\n",
       "      <th>3</th>\n",
       "      <td>-1.468723</td>\n",
       "      <td>1.087383</td>\n",
       "      <td>-1.032926</td>\n",
       "      <td>-1.072146</td>\n",
       "      <td>0.241185</td>\n",
       "    </tr>\n",
       "    <tr>\n",
       "      <th>4</th>\n",
       "      <td>0.410086</td>\n",
       "      <td>0.865449</td>\n",
       "      <td>1.017293</td>\n",
       "      <td>0.263130</td>\n",
       "      <td>-0.613682</td>\n",
       "    </tr>\n",
       "  </tbody>\n",
       "</table>\n",
       "</div>"
      ],
      "text/plain": [
       "          0         1         2         3         4\n",
       "0  0.225824  1.195602  1.008493  0.122619 -0.673961\n",
       "1 -1.829013  1.348138 -1.290046 -1.334966  0.303148\n",
       "2 -0.659491 -0.177663 -0.878999 -0.460783  0.419505\n",
       "3 -1.468723  1.087383 -1.032926 -1.072146  0.241185\n",
       "4  0.410086  0.865449  1.017293  0.263130 -0.613682"
      ]
     },
     "execution_count": 2,
     "metadata": {},
     "output_type": "execute_result"
    }
   ],
   "source": [
    "# generate toy dataset\n",
    "x_train, y_train = make_classification(n_samples=1000, n_features=5, n_informative=2, \n",
    "                                       n_redundant=3, random_state=42)\n",
    "\n",
    "# create train-test split\n",
    "x_train, x_test, y_train, y_test = train_test_split(x_train, y_train, test_size=0.25)\n",
    "\n",
    "# print dataset\n",
    "pd.DataFrame(x_train).head()"
   ]
  },
  {
   "cell_type": "code",
   "execution_count": 3,
   "metadata": {},
   "outputs": [
    {
     "name": "stdout",
     "output_type": "stream",
     "text": [
      "Getting predictions from RandomForestClassifier..\n",
      "Getting predictions from KNeighborsClassifier..\n",
      "Getting predictions from MLPClassifier..\n"
     ]
    },
    {
     "name": "stderr",
     "output_type": "stream",
     "text": [
      "/home/daniel/miniconda3/envs/three/lib/python3.5/site-packages/sklearn/neural_network/multilayer_perceptron.py:563: ConvergenceWarning: Stochastic Optimizer: Maximum iterations reached and the optimization hasn't converged yet.\n",
      "  % (), ConvergenceWarning)\n"
     ]
    },
    {
     "data": {
      "text/html": [
       "<div>\n",
       "<table border=\"1\" class=\"dataframe\">\n",
       "  <thead>\n",
       "    <tr style=\"text-align: right;\">\n",
       "      <th></th>\n",
       "      <th>0</th>\n",
       "      <th>1</th>\n",
       "      <th>2</th>\n",
       "      <th>3</th>\n",
       "      <th>4</th>\n",
       "      <th>5</th>\n",
       "      <th>6</th>\n",
       "      <th>7</th>\n",
       "      <th>8</th>\n",
       "      <th>9</th>\n",
       "      <th>10</th>\n",
       "    </tr>\n",
       "  </thead>\n",
       "  <tbody>\n",
       "    <tr>\n",
       "      <th>0</th>\n",
       "      <td>0.225824</td>\n",
       "      <td>1.195602</td>\n",
       "      <td>1.008493</td>\n",
       "      <td>0.122619</td>\n",
       "      <td>-0.673961</td>\n",
       "      <td>0.0</td>\n",
       "      <td>1.0</td>\n",
       "      <td>0.0</td>\n",
       "      <td>1.0</td>\n",
       "      <td>0.005501</td>\n",
       "      <td>0.994499</td>\n",
       "    </tr>\n",
       "    <tr>\n",
       "      <th>1</th>\n",
       "      <td>-1.829013</td>\n",
       "      <td>1.348138</td>\n",
       "      <td>-1.290046</td>\n",
       "      <td>-1.334966</td>\n",
       "      <td>0.303148</td>\n",
       "      <td>1.0</td>\n",
       "      <td>0.0</td>\n",
       "      <td>0.8</td>\n",
       "      <td>0.2</td>\n",
       "      <td>0.984064</td>\n",
       "      <td>0.015936</td>\n",
       "    </tr>\n",
       "    <tr>\n",
       "      <th>2</th>\n",
       "      <td>-0.659491</td>\n",
       "      <td>-0.177663</td>\n",
       "      <td>-0.878999</td>\n",
       "      <td>-0.460783</td>\n",
       "      <td>0.419505</td>\n",
       "      <td>0.4</td>\n",
       "      <td>0.6</td>\n",
       "      <td>0.6</td>\n",
       "      <td>0.4</td>\n",
       "      <td>0.827411</td>\n",
       "      <td>0.172589</td>\n",
       "    </tr>\n",
       "    <tr>\n",
       "      <th>3</th>\n",
       "      <td>-1.468723</td>\n",
       "      <td>1.087383</td>\n",
       "      <td>-1.032926</td>\n",
       "      <td>-1.072146</td>\n",
       "      <td>0.241185</td>\n",
       "      <td>1.0</td>\n",
       "      <td>0.0</td>\n",
       "      <td>1.0</td>\n",
       "      <td>0.0</td>\n",
       "      <td>0.957629</td>\n",
       "      <td>0.042371</td>\n",
       "    </tr>\n",
       "    <tr>\n",
       "      <th>4</th>\n",
       "      <td>0.410086</td>\n",
       "      <td>0.865449</td>\n",
       "      <td>1.017293</td>\n",
       "      <td>0.263130</td>\n",
       "      <td>-0.613682</td>\n",
       "      <td>0.0</td>\n",
       "      <td>1.0</td>\n",
       "      <td>0.0</td>\n",
       "      <td>1.0</td>\n",
       "      <td>0.010351</td>\n",
       "      <td>0.989649</td>\n",
       "    </tr>\n",
       "  </tbody>\n",
       "</table>\n",
       "</div>"
      ],
      "text/plain": [
       "         0         1         2         3         4    5    6    7    8   \\\n",
       "0  0.225824  1.195602  1.008493  0.122619 -0.673961  0.0  1.0  0.0  1.0   \n",
       "1 -1.829013  1.348138 -1.290046 -1.334966  0.303148  1.0  0.0  0.8  0.2   \n",
       "2 -0.659491 -0.177663 -0.878999 -0.460783  0.419505  0.4  0.6  0.6  0.4   \n",
       "3 -1.468723  1.087383 -1.032926 -1.072146  0.241185  1.0  0.0  1.0  0.0   \n",
       "4  0.410086  0.865449  1.017293  0.263130 -0.613682  0.0  1.0  0.0  1.0   \n",
       "\n",
       "         9         10  \n",
       "0  0.005501  0.994499  \n",
       "1  0.984064  0.015936  \n",
       "2  0.827411  0.172589  \n",
       "3  0.957629  0.042371  \n",
       "4  0.010351  0.989649  "
      ]
     },
     "execution_count": 3,
     "metadata": {},
     "output_type": "execute_result"
    }
   ],
   "source": [
    "# define first-level models\n",
    "models = [ \n",
    "    RandomForestClassifier(), \n",
    "    KNeighborsClassifier(),\n",
    "    MLPClassifier()\n",
    "]\n",
    "\n",
    "# get data with meta-features\n",
    "x_train_stack, x_test_stack = StackEnsemble(models, x_train, y_train, x_test, prob=True, orig_data=True)\n",
    "\n",
    "# print new dataframe\n",
    "pd.DataFrame(x_train_stack).head()"
   ]
  },
  {
   "cell_type": "code",
   "execution_count": 4,
   "metadata": {},
   "outputs": [
    {
     "name": "stdout",
     "output_type": "stream",
     "text": [
      "             precision    recall  f1-score   support\n",
      "\n",
      "          0       0.86      0.84      0.85       126\n",
      "          1       0.84      0.86      0.85       124\n",
      "\n",
      "avg / total       0.85      0.85      0.85       250\n",
      "\n",
      "0.852\n"
     ]
    }
   ],
   "source": [
    "# use logistic regression on original data\n",
    "model = LogisticRegression()\n",
    "preds = model.fit(x_train, y_train).predict(x_test)\n",
    "\n",
    "# print results\n",
    "print(classification_report(preds, y_test))\n",
    "print(accuracy_score(preds, y_test))"
   ]
  },
  {
   "cell_type": "code",
   "execution_count": 5,
   "metadata": {},
   "outputs": [
    {
     "name": "stdout",
     "output_type": "stream",
     "text": [
      "             precision    recall  f1-score   support\n",
      "\n",
      "          0       0.93      0.90      0.91       127\n",
      "          1       0.90      0.93      0.91       123\n",
      "\n",
      "avg / total       0.91      0.91      0.91       250\n",
      "\n",
      "0.912\n"
     ]
    }
   ],
   "source": [
    "# use logistic regression on data with meta-features\n",
    "preds = model.fit(x_train_stack, y_train).predict(x_test_stack)\n",
    "\n",
    "# print results\n",
    "print(classification_report(preds, y_test))\n",
    "print(accuracy_score(preds, y_test))"
   ]
  }
 ],
 "metadata": {
  "kernelspec": {
   "display_name": "Python 3",
   "language": "python",
   "name": "python3"
  },
  "language_info": {
   "codemirror_mode": {
    "name": "ipython",
    "version": 3
   },
   "file_extension": ".py",
   "mimetype": "text/x-python",
   "name": "python",
   "nbconvert_exporter": "python",
   "pygments_lexer": "ipython3",
   "version": "3.5.3"
  }
 },
 "nbformat": 4,
 "nbformat_minor": 2
}
