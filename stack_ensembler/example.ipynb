{
 "cells": [
  {
   "cell_type": "code",
   "execution_count": 1,
   "metadata": {
    "collapsed": true
   },
   "outputs": [],
   "source": [
    "import pandas as pd\n",
    "\n",
    "from stack_ensembler import stack_ensemble\n",
    "\n",
    "from sklearn.datasets import make_classification\n",
    "from sklearn.model_selection import train_test_split\n",
    "from sklearn.metrics import classification_report, accuracy_score\n",
    "\n",
    "from sklearn.linear_model import LogisticRegression\n",
    "from sklearn.ensemble import RandomForestClassifier\n",
    "from sklearn.neighbors import KNeighborsClassifier\n",
    "from sklearn.neural_network import MLPClassifier"
   ]
  },
  {
   "cell_type": "code",
   "execution_count": 2,
   "metadata": {},
   "outputs": [
    {
     "data": {
      "text/html": [
       "<div>\n",
       "<table border=\"1\" class=\"dataframe\">\n",
       "  <thead>\n",
       "    <tr style=\"text-align: right;\">\n",
       "      <th></th>\n",
       "      <th>0</th>\n",
       "      <th>1</th>\n",
       "      <th>2</th>\n",
       "      <th>3</th>\n",
       "      <th>4</th>\n",
       "    </tr>\n",
       "  </thead>\n",
       "  <tbody>\n",
       "    <tr>\n",
       "      <th>0</th>\n",
       "      <td>-2.305015</td>\n",
       "      <td>1.157283</td>\n",
       "      <td>-1.963526</td>\n",
       "      <td>-1.665606</td>\n",
       "      <td>0.635200</td>\n",
       "    </tr>\n",
       "    <tr>\n",
       "      <th>1</th>\n",
       "      <td>-1.143589</td>\n",
       "      <td>0.341192</td>\n",
       "      <td>-1.119419</td>\n",
       "      <td>-0.819139</td>\n",
       "      <td>0.424018</td>\n",
       "    </tr>\n",
       "    <tr>\n",
       "      <th>2</th>\n",
       "      <td>-1.164148</td>\n",
       "      <td>-0.262691</td>\n",
       "      <td>-1.519878</td>\n",
       "      <td>-0.814962</td>\n",
       "      <td>0.716721</td>\n",
       "    </tr>\n",
       "    <tr>\n",
       "      <th>3</th>\n",
       "      <td>-0.617729</td>\n",
       "      <td>-0.173771</td>\n",
       "      <td>-0.827924</td>\n",
       "      <td>-0.431376</td>\n",
       "      <td>0.396379</td>\n",
       "    </tr>\n",
       "    <tr>\n",
       "      <th>4</th>\n",
       "      <td>2.803911</td>\n",
       "      <td>-0.702825</td>\n",
       "      <td>2.828028</td>\n",
       "      <td>2.004265</td>\n",
       "      <td>-1.102124</td>\n",
       "    </tr>\n",
       "  </tbody>\n",
       "</table>\n",
       "</div>"
      ],
      "text/plain": [
       "          0         1         2         3         4\n",
       "0 -2.305015  1.157283 -1.963526 -1.665606  0.635200\n",
       "1 -1.143589  0.341192 -1.119419 -0.819139  0.424018\n",
       "2 -1.164148 -0.262691 -1.519878 -0.814962  0.716721\n",
       "3 -0.617729 -0.173771 -0.827924 -0.431376  0.396379\n",
       "4  2.803911 -0.702825  2.828028  2.004265 -1.102124"
      ]
     },
     "execution_count": 2,
     "metadata": {},
     "output_type": "execute_result"
    }
   ],
   "source": [
    "# generate toy dataset\n",
    "x_train, y_train = make_classification(n_samples=1000, n_features=5, n_informative=2, \n",
    "                                       n_redundant=3, random_state=42)\n",
    "\n",
    "# create train-test split\n",
    "x_train, x_test, y_train, y_test = train_test_split(x_train, y_train, test_size=0.25)\n",
    "\n",
    "# print dataset\n",
    "pd.DataFrame(x_train).head()"
   ]
  },
  {
   "cell_type": "code",
   "execution_count": 3,
   "metadata": {},
   "outputs": [
    {
     "name": "stdout",
     "output_type": "stream",
     "text": [
      "             precision    recall  f1-score   support\n",
      "\n",
      "          0       0.80      0.86      0.83       113\n",
      "          1       0.88      0.82      0.85       137\n",
      "\n",
      "avg / total       0.84      0.84      0.84       250\n",
      "\n",
      "0.84\n"
     ]
    }
   ],
   "source": [
    "# use logistic regression for baseline\n",
    "model = LogisticRegression()\n",
    "preds = model.fit(x_train, y_train).predict(x_test)\n",
    "\n",
    "# print results\n",
    "print(classification_report(preds, y_test))\n",
    "print(accuracy_score(preds, y_test))"
   ]
  },
  {
   "cell_type": "code",
   "execution_count": 4,
   "metadata": {},
   "outputs": [
    {
     "name": "stdout",
     "output_type": "stream",
     "text": [
      "Getting predictions from RandomForestClassifier..\n",
      "Getting predictions from KNeighborsClassifier..\n",
      "Getting predictions from MLPClassifier..\n"
     ]
    },
    {
     "name": "stderr",
     "output_type": "stream",
     "text": [
      "/home/daniel/miniconda3/envs/three/lib/python3.5/site-packages/sklearn/neural_network/multilayer_perceptron.py:563: ConvergenceWarning: Stochastic Optimizer: Maximum iterations reached and the optimization hasn't converged yet.\n",
      "  % (), ConvergenceWarning)\n"
     ]
    },
    {
     "data": {
      "text/html": [
       "<div>\n",
       "<table border=\"1\" class=\"dataframe\">\n",
       "  <thead>\n",
       "    <tr style=\"text-align: right;\">\n",
       "      <th></th>\n",
       "      <th>0</th>\n",
       "      <th>1</th>\n",
       "      <th>2</th>\n",
       "      <th>3</th>\n",
       "      <th>4</th>\n",
       "      <th>KNeighborsClassifier</th>\n",
       "      <th>RandomForestClassifier</th>\n",
       "      <th>MLPClassifier</th>\n",
       "    </tr>\n",
       "  </thead>\n",
       "  <tbody>\n",
       "    <tr>\n",
       "      <th>0</th>\n",
       "      <td>-2.305015</td>\n",
       "      <td>1.157283</td>\n",
       "      <td>-1.963526</td>\n",
       "      <td>-1.665606</td>\n",
       "      <td>0.635200</td>\n",
       "      <td>0</td>\n",
       "      <td>0</td>\n",
       "      <td>0</td>\n",
       "    </tr>\n",
       "    <tr>\n",
       "      <th>1</th>\n",
       "      <td>-1.143589</td>\n",
       "      <td>0.341192</td>\n",
       "      <td>-1.119419</td>\n",
       "      <td>-0.819139</td>\n",
       "      <td>0.424018</td>\n",
       "      <td>0</td>\n",
       "      <td>0</td>\n",
       "      <td>0</td>\n",
       "    </tr>\n",
       "    <tr>\n",
       "      <th>2</th>\n",
       "      <td>-1.164148</td>\n",
       "      <td>-0.262691</td>\n",
       "      <td>-1.519878</td>\n",
       "      <td>-0.814962</td>\n",
       "      <td>0.716721</td>\n",
       "      <td>1</td>\n",
       "      <td>1</td>\n",
       "      <td>0</td>\n",
       "    </tr>\n",
       "    <tr>\n",
       "      <th>3</th>\n",
       "      <td>-0.617729</td>\n",
       "      <td>-0.173771</td>\n",
       "      <td>-0.827924</td>\n",
       "      <td>-0.431376</td>\n",
       "      <td>0.396379</td>\n",
       "      <td>0</td>\n",
       "      <td>0</td>\n",
       "      <td>0</td>\n",
       "    </tr>\n",
       "    <tr>\n",
       "      <th>4</th>\n",
       "      <td>2.803911</td>\n",
       "      <td>-0.702825</td>\n",
       "      <td>2.828028</td>\n",
       "      <td>2.004265</td>\n",
       "      <td>-1.102124</td>\n",
       "      <td>1</td>\n",
       "      <td>1</td>\n",
       "      <td>1</td>\n",
       "    </tr>\n",
       "  </tbody>\n",
       "</table>\n",
       "</div>"
      ],
      "text/plain": [
       "          0         1         2         3         4  KNeighborsClassifier  \\\n",
       "0 -2.305015  1.157283 -1.963526 -1.665606  0.635200                     0   \n",
       "1 -1.143589  0.341192 -1.119419 -0.819139  0.424018                     0   \n",
       "2 -1.164148 -0.262691 -1.519878 -0.814962  0.716721                     1   \n",
       "3 -0.617729 -0.173771 -0.827924 -0.431376  0.396379                     0   \n",
       "4  2.803911 -0.702825  2.828028  2.004265 -1.102124                     1   \n",
       "\n",
       "   RandomForestClassifier  MLPClassifier  \n",
       "0                       0              0  \n",
       "1                       0              0  \n",
       "2                       1              0  \n",
       "3                       0              0  \n",
       "4                       1              1  "
      ]
     },
     "execution_count": 4,
     "metadata": {},
     "output_type": "execute_result"
    }
   ],
   "source": [
    "# define first-level models\n",
    "models = [ \n",
    "    RandomForestClassifier(), \n",
    "    KNeighborsClassifier(),\n",
    "    MLPClassifier()\n",
    "]\n",
    "\n",
    "# get data with meta-features\n",
    "x_train_stack, x_test_stack = stack_ensemble(models, pd.DataFrame(x_train), y_train, pd.DataFrame(x_test))\n",
    "\n",
    "# print new dataframe\n",
    "x_train_stack.head()"
   ]
  },
  {
   "cell_type": "code",
   "execution_count": 5,
   "metadata": {},
   "outputs": [
    {
     "name": "stdout",
     "output_type": "stream",
     "text": [
      "             precision    recall  f1-score   support\n",
      "\n",
      "          0       0.90      0.91      0.90       120\n",
      "          1       0.91      0.91      0.91       130\n",
      "\n",
      "avg / total       0.91      0.91      0.91       250\n",
      "\n",
      "0.908\n"
     ]
    }
   ],
   "source": [
    "# use logistic regression on stack ensembled data\n",
    "preds = model.fit(x_train_stack, y_train).predict(x_test_stack)\n",
    "\n",
    "# print results\n",
    "print(classification_report(preds, y_test))\n",
    "print(accuracy_score(preds, y_test))"
   ]
  }
 ],
 "metadata": {
  "kernelspec": {
   "display_name": "Python 3",
   "language": "python",
   "name": "python3"
  },
  "language_info": {
   "codemirror_mode": {
    "name": "ipython",
    "version": 3
   },
   "file_extension": ".py",
   "mimetype": "text/x-python",
   "name": "python",
   "nbconvert_exporter": "python",
   "pygments_lexer": "ipython3",
   "version": "3.5.3"
  }
 },
 "nbformat": 4,
 "nbformat_minor": 2
}
