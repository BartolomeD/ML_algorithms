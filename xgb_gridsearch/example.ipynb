{
 "cells": [
  {
   "cell_type": "markdown",
   "metadata": {},
   "source": [
    "# XGBoost gridsearch\n",
    "\n",
    "This notebook handles arbitrary data input and executes a complete XGBoost parameter gridsearch. Finally, a dictionary with all optimal parameter and value pairs is returned."
   ]
  },
  {
   "cell_type": "code",
   "execution_count": 1,
   "metadata": {
    "collapsed": true
   },
   "outputs": [],
   "source": [
    "import xgboost as xgb\n",
    "from xgb_utils import gridsearch, update\n",
    "from sklearn.model_selection import GridSearchCV, train_test_split\n",
    "from sklearn.datasets import make_classification"
   ]
  },
  {
   "cell_type": "code",
   "execution_count": 2,
   "metadata": {
    "collapsed": true
   },
   "outputs": [],
   "source": [
    "# generate toy dataset\n",
    "x_train, y_train = make_classification(n_samples=1000, n_features=5, n_informative=2, \n",
    "                                       n_redundant=3, random_state=42, class_sep=.5)\n",
    "\n",
    "# create train-test split\n",
    "x_train, x_test, y_train, y_test = train_test_split(x_train, y_train, test_size=0.25)\n",
    "\n",
    "dtrain = xgb.DMatrix(x_train, label=y_train)\n",
    "dtest = xgb.DMatrix(x_test)"
   ]
  },
  {
   "cell_type": "markdown",
   "metadata": {},
   "source": [
    "## n_estimator"
   ]
  },
  {
   "cell_type": "code",
   "execution_count": 3,
   "metadata": {},
   "outputs": [
    {
     "name": "stdout",
     "output_type": "stream",
     "text": [
      "[0]\ttrain-merror:0.16533+0.0149866\ttest-merror:0.215241+0.00694639\n",
      "[20]\ttrain-merror:0.0877897+0.00912173\ttest-merror:0.185829+0.0276258\n"
     ]
    }
   ],
   "source": [
    "# Set initial parameters and find optimal number of boosting rounds\n",
    "\n",
    "xgb_params = {\n",
    "    'objective': 'multi:softmax',\n",
    "    'eval_metric': 'merror',\n",
    "    'learning_rate': 0.1,\n",
    "    'max_depth': 6,\n",
    "    'min_child_weight': 1,\n",
    "    'subsample': 0.7,\n",
    "    'colsample_bytree': 0.7,\n",
    "    'seed': 2017,\n",
    "    'silent': 1,\n",
    "    'num_parallel_tree': 1,\n",
    "    'num_class': 5\n",
    "}\n",
    "\n",
    "res = xgb.cv(xgb_params,\n",
    "             dtrain,\n",
    "             num_boost_round=750,\n",
    "             nfold=4,\n",
    "             seed=2017,\n",
    "             stratified=False,\n",
    "             early_stopping_rounds=15,\n",
    "             verbose_eval=20,\n",
    "             show_stdv=True,\n",
    "             maximize=False)"
   ]
  },
  {
   "cell_type": "markdown",
   "metadata": {},
   "source": [
    "## Hyperparameter tuning"
   ]
  },
  {
   "cell_type": "code",
   "execution_count": 4,
   "metadata": {
    "collapsed": true
   },
   "outputs": [],
   "source": [
    "# formulate initial parameters\n",
    "params = {\n",
    "    'objective': 'binary:logistic',\n",
    "    'num_class': 2,\n",
    "    'scoring': 'f1',\n",
    "    'learning_rate': 0.1,\n",
    "    'max_depth': 6,\n",
    "    'min_child_weight': 1,\n",
    "    'scale_pos_weight': 1,\n",
    "    'subsample': 0.7,\n",
    "    'colsample_bytree': 0.7,\n",
    "    'seed': 1337,\n",
    "    'silent': 1,\n",
    "    'num_parallel_tree': 1,\n",
    "    'gamma': 0,\n",
    "    'n_estimator': res.shape[0]\n",
    "}"
   ]
  },
  {
   "cell_type": "markdown",
   "metadata": {},
   "source": [
    "### max_depth and min_child_weight"
   ]
  },
  {
   "cell_type": "code",
   "execution_count": 6,
   "metadata": {},
   "outputs": [
    {
     "name": "stdout",
     "output_type": "stream",
     "text": [
      "Fitting 3 folds for each of 12 candidates, totalling 36 fits\n"
     ]
    },
    {
     "name": "stderr",
     "output_type": "stream",
     "text": [
      "[Parallel(n_jobs=1)]: Done  36 out of  36 | elapsed:    0.3s finished\n"
     ]
    },
    {
     "name": "stdout",
     "output_type": "stream",
     "text": [
      "{'min_child_weight': 1, 'max_depth': 7}\n",
      "Fitting 3 folds for each of 9 candidates, totalling 27 fits\n",
      "{'min_child_weight': 0, 'max_depth': 7}\n"
     ]
    },
    {
     "name": "stderr",
     "output_type": "stream",
     "text": [
      "[Parallel(n_jobs=1)]: Done  27 out of  27 | elapsed:    0.3s finished\n"
     ]
    }
   ],
   "source": [
    "# formulate the grid\n",
    "tune_params = {\n",
    " 'max_depth': list(range(3,10,2)),\n",
    " 'min_child_weight': list(range(1,6,2))}\n",
    "tmp = gridsearch(x_train, y_train, params, tune_params)\n",
    "\n",
    "# narrow down grid\n",
    "tune_params = {\n",
    " 'max_depth': [tmp['max_depth'] + i for i in range(-1, 2)],\n",
    " 'min_child_weight': [tmp['min_child_weight'] + i for i in range(-1, 2)]}\n",
    "tmp = gridsearch(x_train, y_train, params, tune_params)\n",
    "\n",
    "# update base parameters with optimal values\n",
    "params = update(params, tmp)"
   ]
  },
  {
   "cell_type": "markdown",
   "metadata": {},
   "source": [
    "### gamma"
   ]
  },
  {
   "cell_type": "code",
   "execution_count": 7,
   "metadata": {},
   "outputs": [
    {
     "name": "stdout",
     "output_type": "stream",
     "text": [
      "Fitting 3 folds for each of 5 candidates, totalling 15 fits\n",
      "{'gamma': 0.0}\n"
     ]
    },
    {
     "name": "stderr",
     "output_type": "stream",
     "text": [
      "[Parallel(n_jobs=1)]: Done  15 out of  15 | elapsed:    0.2s finished\n"
     ]
    }
   ],
   "source": [
    "tune_params = {\n",
    " 'gamma':[i/10.0 for i in list(range(0,5))]\n",
    "}\n",
    "tmp = gridsearch(x_train, y_train, params, tune_params)\n",
    "params = update(params, tmp)"
   ]
  },
  {
   "cell_type": "markdown",
   "metadata": {},
   "source": [
    "## Update n_estimator"
   ]
  },
  {
   "cell_type": "code",
   "execution_count": 8,
   "metadata": {},
   "outputs": [
    {
     "name": "stdout",
     "output_type": "stream",
     "text": [
      "[0]\ttrain-merror:0.146168+0.0133394\ttest-merror:0.207219+0.010943\n",
      "[20]\ttrain-merror:0.0668453+0.00388487\ttest-merror:0.179145+0.0158185\n"
     ]
    }
   ],
   "source": [
    "pars = ['scale_pos_weight','gamma','colsample_bytree','max_depth'\n",
    "        ,'subsample','num_parallel_tree','min_child_weight']\n",
    "for par in pars:\n",
    "    xgb_params[par] = params[par]\n",
    "\n",
    "res = xgb.cv(xgb_params,\n",
    "             dtrain,\n",
    "             num_boost_round=750,\n",
    "             nfold=4,\n",
    "             seed=2017,\n",
    "             stratified=False,\n",
    "             early_stopping_rounds=15,\n",
    "             verbose_eval=20,\n",
    "             show_stdv=True,\n",
    "             maximize=False)"
   ]
  },
  {
   "cell_type": "markdown",
   "metadata": {},
   "source": [
    "### subsample and colsample_bytree "
   ]
  },
  {
   "cell_type": "code",
   "execution_count": 9,
   "metadata": {},
   "outputs": [
    {
     "name": "stdout",
     "output_type": "stream",
     "text": [
      "Fitting 3 folds for each of 25 candidates, totalling 75 fits\n"
     ]
    },
    {
     "name": "stderr",
     "output_type": "stream",
     "text": [
      "[Parallel(n_jobs=1)]: Done  75 out of  75 | elapsed:    0.7s finished\n"
     ]
    },
    {
     "name": "stdout",
     "output_type": "stream",
     "text": [
      "{'colsample_bytree': 0.6, 'subsample': 0.7}\n",
      "Fitting 3 folds for each of 36 candidates, totalling 108 fits\n",
      "{'colsample_bytree': 0.6, 'subsample': 0.7}\n"
     ]
    },
    {
     "name": "stderr",
     "output_type": "stream",
     "text": [
      "[Parallel(n_jobs=1)]: Done 108 out of 108 | elapsed:    1.0s finished\n"
     ]
    }
   ],
   "source": [
    "tune_params = {\n",
    " 'subsample': [i/10.0 for i in list(range(5,10))],\n",
    " 'colsample_bytree': [i/10.0 for i in list(range(5,10))]\n",
    "}\n",
    "tmp = gridsearch(x_train, y_train, params, tune_params)\n",
    "params = update(params, tmp)\n",
    "\n",
    "tune_params = {\n",
    " 'subsample': [i/100.0 for i in list(range(int(tmp['subsample'] * 100) - 15\n",
    "                                           , int(tmp['subsample'] * 100) + 15, 5))],\n",
    " 'colsample_bytree': [i/100.0 for i in list(range(int(tmp['subsample'] * 100) - 15\n",
    "                                                  , int(tmp['subsample'] * 100) + 15, 5))]\n",
    "}\n",
    "tmp = gridsearch(x_train, y_train, params, tune_params)\n",
    "params = update(params, tmp)"
   ]
  },
  {
   "cell_type": "markdown",
   "metadata": {},
   "source": [
    "### alpha"
   ]
  },
  {
   "cell_type": "code",
   "execution_count": 10,
   "metadata": {},
   "outputs": [
    {
     "name": "stdout",
     "output_type": "stream",
     "text": [
      "Fitting 3 folds for each of 5 candidates, totalling 15 fits\n",
      "{'reg_alpha': 0}\n"
     ]
    },
    {
     "name": "stderr",
     "output_type": "stream",
     "text": [
      "[Parallel(n_jobs=1)]: Done  15 out of  15 | elapsed:    0.2s finished\n"
     ]
    }
   ],
   "source": [
    "tune_params = {\n",
    " 'reg_alpha': [0, 0.001, 0.005, 0.01, 0.05]\n",
    "}\n",
    "tmp = gridsearch(x_train, y_train, params, tune_params)\n",
    "params = update(params, tmp)"
   ]
  },
  {
   "cell_type": "markdown",
   "metadata": {},
   "source": [
    "## Results\n",
    "This dictionary contains all optimal parameter values"
   ]
  },
  {
   "cell_type": "code",
   "execution_count": 11,
   "metadata": {},
   "outputs": [
    {
     "data": {
      "text/plain": [
       "{'colsample_bytree': 0.6,\n",
       " 'gamma': 0.0,\n",
       " 'learning_rate': 0.1,\n",
       " 'max_depth': 7,\n",
       " 'min_child_weight': 0,\n",
       " 'n_estimator': 15,\n",
       " 'num_class': 2,\n",
       " 'num_parallel_tree': 1,\n",
       " 'objective': 'binary:logistic',\n",
       " 'reg_alpha': 0,\n",
       " 'scale_pos_weight': 1,\n",
       " 'scoring': 'f1',\n",
       " 'seed': 1337,\n",
       " 'silent': 1,\n",
       " 'subsample': 0.7}"
      ]
     },
     "execution_count": 11,
     "metadata": {},
     "output_type": "execute_result"
    }
   ],
   "source": [
    "params"
   ]
  },
  {
   "cell_type": "code",
   "execution_count": null,
   "metadata": {
    "collapsed": true
   },
   "outputs": [],
   "source": []
  }
 ],
 "metadata": {
  "kernelspec": {
   "display_name": "Python 3",
   "language": "python",
   "name": "python3"
  },
  "language_info": {
   "codemirror_mode": {
    "name": "ipython",
    "version": 3
   },
   "file_extension": ".py",
   "mimetype": "text/x-python",
   "name": "python",
   "nbconvert_exporter": "python",
   "pygments_lexer": "ipython3",
   "version": "3.5.3"
  }
 },
 "nbformat": 4,
 "nbformat_minor": 2
}
