{
 "cells": [
  {
   "cell_type": "code",
   "execution_count": 1,
   "metadata": {
    "collapsed": true
   },
   "outputs": [],
   "source": [
    "import pandas as pd\n",
    "\n",
    "from stack_ensembler import stack_ensemble\n",
    "\n",
    "from sklearn.datasets import make_classification\n",
    "from sklearn.model_selection import train_test_split\n",
    "from sklearn.metrics import classification_report, accuracy_score\n",
    "\n",
    "from sklearn.linear_model import LogisticRegression\n",
    "from sklearn.ensemble import RandomForestClassifier\n",
    "from sklearn.neighbors import KNeighborsClassifier\n",
    "from sklearn.neural_network import MLPClassifier"
   ]
  },
  {
   "cell_type": "code",
   "execution_count": 2,
   "metadata": {},
   "outputs": [
    {
     "data": {
      "text/html": [
       "<div>\n",
       "<table border=\"1\" class=\"dataframe\">\n",
       "  <thead>\n",
       "    <tr style=\"text-align: right;\">\n",
       "      <th></th>\n",
       "      <th>0</th>\n",
       "      <th>1</th>\n",
       "      <th>2</th>\n",
       "      <th>3</th>\n",
       "      <th>4</th>\n",
       "    </tr>\n",
       "  </thead>\n",
       "  <tbody>\n",
       "    <tr>\n",
       "      <th>0</th>\n",
       "      <td>-0.569570</td>\n",
       "      <td>-1.241575</td>\n",
       "      <td>-1.437580</td>\n",
       "      <td>-0.364237</td>\n",
       "      <td>0.870827</td>\n",
       "    </tr>\n",
       "    <tr>\n",
       "      <th>1</th>\n",
       "      <td>-1.519048</td>\n",
       "      <td>0.533777</td>\n",
       "      <td>-1.436711</td>\n",
       "      <td>-1.090573</td>\n",
       "      <td>0.525579</td>\n",
       "    </tr>\n",
       "    <tr>\n",
       "      <th>2</th>\n",
       "      <td>0.010513</td>\n",
       "      <td>0.721858</td>\n",
       "      <td>0.462312</td>\n",
       "      <td>-0.014935</td>\n",
       "      <td>-0.342712</td>\n",
       "    </tr>\n",
       "    <tr>\n",
       "      <th>3</th>\n",
       "      <td>-1.254097</td>\n",
       "      <td>1.130708</td>\n",
       "      <td>-0.755899</td>\n",
       "      <td>-0.921738</td>\n",
       "      <td>0.111433</td>\n",
       "    </tr>\n",
       "    <tr>\n",
       "      <th>4</th>\n",
       "      <td>0.803684</td>\n",
       "      <td>-1.502468</td>\n",
       "      <td>-0.000564</td>\n",
       "      <td>0.614797</td>\n",
       "      <td>0.292106</td>\n",
       "    </tr>\n",
       "  </tbody>\n",
       "</table>\n",
       "</div>"
      ],
      "text/plain": [
       "          0         1         2         3         4\n",
       "0 -0.569570 -1.241575 -1.437580 -0.364237  0.870827\n",
       "1 -1.519048  0.533777 -1.436711 -1.090573  0.525579\n",
       "2  0.010513  0.721858  0.462312 -0.014935 -0.342712\n",
       "3 -1.254097  1.130708 -0.755899 -0.921738  0.111433\n",
       "4  0.803684 -1.502468 -0.000564  0.614797  0.292106"
      ]
     },
     "execution_count": 2,
     "metadata": {},
     "output_type": "execute_result"
    }
   ],
   "source": [
    "# generate toy dataset\n",
    "x_train, y_train = make_classification(n_samples=1000, n_features=5, n_informative=2, \n",
    "                                       n_redundant=3, random_state=42)\n",
    "\n",
    "# create train-test split\n",
    "x_train, x_test, y_train, y_test = train_test_split(x_train, y_train, test_size=0.25)\n",
    "\n",
    "# print dataset\n",
    "pd.DataFrame(x_train).head()"
   ]
  },
  {
   "cell_type": "code",
   "execution_count": 3,
   "metadata": {},
   "outputs": [
    {
     "name": "stdout",
     "output_type": "stream",
     "text": [
      "             precision    recall  f1-score   support\n",
      "\n",
      "          0       0.77      0.82      0.79       111\n",
      "          1       0.85      0.81      0.83       139\n",
      "\n",
      "avg / total       0.81      0.81      0.81       250\n",
      "\n",
      "0.812\n"
     ]
    }
   ],
   "source": [
    "# use logistic regression for baseline\n",
    "model = LogisticRegression()\n",
    "preds = model.fit(x_train, y_train).predict(x_test)\n",
    "\n",
    "# print results\n",
    "print(classification_report(preds, y_test))\n",
    "print(accuracy_score(preds, y_test))"
   ]
  },
  {
   "cell_type": "code",
   "execution_count": 4,
   "metadata": {},
   "outputs": [
    {
     "name": "stdout",
     "output_type": "stream",
     "text": [
      "Getting predictions from RandomForestClassifier..\n",
      "Getting predictions from KNeighborsClassifier..\n",
      "Getting predictions from MLPClassifier..\n"
     ]
    },
    {
     "name": "stderr",
     "output_type": "stream",
     "text": [
      "/home/daniel/miniconda3/envs/three/lib/python3.5/site-packages/sklearn/neural_network/multilayer_perceptron.py:563: ConvergenceWarning: Stochastic Optimizer: Maximum iterations reached and the optimization hasn't converged yet.\n",
      "  % (), ConvergenceWarning)\n"
     ]
    },
    {
     "data": {
      "text/html": [
       "<div>\n",
       "<table border=\"1\" class=\"dataframe\">\n",
       "  <thead>\n",
       "    <tr style=\"text-align: right;\">\n",
       "      <th></th>\n",
       "      <th>0</th>\n",
       "      <th>1</th>\n",
       "      <th>2</th>\n",
       "      <th>3</th>\n",
       "      <th>4</th>\n",
       "      <th>5</th>\n",
       "      <th>6</th>\n",
       "      <th>7</th>\n",
       "    </tr>\n",
       "  </thead>\n",
       "  <tbody>\n",
       "    <tr>\n",
       "      <th>0</th>\n",
       "      <td>-0.569570</td>\n",
       "      <td>-1.241575</td>\n",
       "      <td>-1.437580</td>\n",
       "      <td>-0.364237</td>\n",
       "      <td>0.870827</td>\n",
       "      <td>0.0</td>\n",
       "      <td>0.0</td>\n",
       "      <td>0.0</td>\n",
       "    </tr>\n",
       "    <tr>\n",
       "      <th>1</th>\n",
       "      <td>-1.519048</td>\n",
       "      <td>0.533777</td>\n",
       "      <td>-1.436711</td>\n",
       "      <td>-1.090573</td>\n",
       "      <td>0.525579</td>\n",
       "      <td>0.0</td>\n",
       "      <td>0.0</td>\n",
       "      <td>0.0</td>\n",
       "    </tr>\n",
       "    <tr>\n",
       "      <th>2</th>\n",
       "      <td>0.010513</td>\n",
       "      <td>0.721858</td>\n",
       "      <td>0.462312</td>\n",
       "      <td>-0.014935</td>\n",
       "      <td>-0.342712</td>\n",
       "      <td>1.0</td>\n",
       "      <td>1.0</td>\n",
       "      <td>1.0</td>\n",
       "    </tr>\n",
       "    <tr>\n",
       "      <th>3</th>\n",
       "      <td>-1.254097</td>\n",
       "      <td>1.130708</td>\n",
       "      <td>-0.755899</td>\n",
       "      <td>-0.921738</td>\n",
       "      <td>0.111433</td>\n",
       "      <td>0.0</td>\n",
       "      <td>0.0</td>\n",
       "      <td>0.0</td>\n",
       "    </tr>\n",
       "    <tr>\n",
       "      <th>4</th>\n",
       "      <td>0.803684</td>\n",
       "      <td>-1.502468</td>\n",
       "      <td>-0.000564</td>\n",
       "      <td>0.614797</td>\n",
       "      <td>0.292106</td>\n",
       "      <td>1.0</td>\n",
       "      <td>1.0</td>\n",
       "      <td>1.0</td>\n",
       "    </tr>\n",
       "  </tbody>\n",
       "</table>\n",
       "</div>"
      ],
      "text/plain": [
       "          0         1         2         3         4    5    6    7\n",
       "0 -0.569570 -1.241575 -1.437580 -0.364237  0.870827  0.0  0.0  0.0\n",
       "1 -1.519048  0.533777 -1.436711 -1.090573  0.525579  0.0  0.0  0.0\n",
       "2  0.010513  0.721858  0.462312 -0.014935 -0.342712  1.0  1.0  1.0\n",
       "3 -1.254097  1.130708 -0.755899 -0.921738  0.111433  0.0  0.0  0.0\n",
       "4  0.803684 -1.502468 -0.000564  0.614797  0.292106  1.0  1.0  1.0"
      ]
     },
     "execution_count": 4,
     "metadata": {},
     "output_type": "execute_result"
    }
   ],
   "source": [
    "# define first-level models\n",
    "models = [ \n",
    "    RandomForestClassifier(), \n",
    "    KNeighborsClassifier(),\n",
    "    MLPClassifier()\n",
    "]\n",
    "\n",
    "# get data with meta-features\n",
    "x_train_stack, x_test_stack = stack_ensemble(models, x_train, y_train, x_test)\n",
    "\n",
    "# print new dataframe\n",
    "pd.DataFrame(x_train_stack).head()"
   ]
  },
  {
   "cell_type": "code",
   "execution_count": 5,
   "metadata": {},
   "outputs": [
    {
     "name": "stdout",
     "output_type": "stream",
     "text": [
      "             precision    recall  f1-score   support\n",
      "\n",
      "          0       0.89      0.88      0.88       120\n",
      "          1       0.89      0.90      0.89       130\n",
      "\n",
      "avg / total       0.89      0.89      0.89       250\n",
      "\n",
      "0.888\n"
     ]
    }
   ],
   "source": [
    "# use logistic regression on stack ensembled data\n",
    "preds = model.fit(x_train_stack, y_train).predict(x_test_stack)\n",
    "\n",
    "# print results\n",
    "print(classification_report(preds, y_test))\n",
    "print(accuracy_score(preds, y_test))"
   ]
  }
 ],
 "metadata": {
  "kernelspec": {
   "display_name": "Python 3",
   "language": "python",
   "name": "python3"
  },
  "language_info": {
   "codemirror_mode": {
    "name": "ipython",
    "version": 3
   },
   "file_extension": ".py",
   "mimetype": "text/x-python",
   "name": "python",
   "nbconvert_exporter": "python",
   "pygments_lexer": "ipython3",
   "version": "3.5.3"
  }
 },
 "nbformat": 4,
 "nbformat_minor": 2
}
