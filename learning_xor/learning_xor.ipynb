{
 "cells": [
  {
   "cell_type": "code",
   "execution_count": 1,
   "metadata": {
    "collapsed": true
   },
   "outputs": [],
   "source": [
    "import torch\n",
    "import torch.nn as nn\n",
    "from torch.autograd import Variable\n",
    "import numpy as np\n",
    "from sklearn.linear_model import LogisticRegression\n",
    "import matplotlib.pyplot as plt\n",
    "%matplotlib inline"
   ]
  },
  {
   "cell_type": "markdown",
   "metadata": {},
   "source": [
    "## XOR Learning\n",
    "\n",
    "As can be seen in the figure below, XOR could be framed as a non-linear binary classification problem. Linear models, such as logistic regression or even single layer neural networks, will not be able to find a solution. We need to introduce nonlinearity by using multiple neural network layers."
   ]
  },
  {
   "cell_type": "code",
   "execution_count": 2,
   "metadata": {},
   "outputs": [
    {
     "data": {
      "image/png": "[encoded data removed]",
      "text/plain": [
       "<matplotlib.figure.Figure at 0x18f02a20470>"
      ]
     },
     "metadata": {},
     "output_type": "display_data"
    }
   ],
   "source": [
    "fig, ax = plt.subplots(figsize=(3,3))\n",
    "ax.scatter(0, 0, c='r', label='False')\n",
    "ax.scatter(1, 1, c='r')\n",
    "ax.scatter(1, 0, c='b', label='True')\n",
    "ax.scatter(0, 1, c='b')\n",
    "legend = ax.legend(loc='best')\n",
    "plt.show()"
   ]
  },
  {
   "cell_type": "markdown",
   "metadata": {},
   "source": [
    "Logistic regression cannot find a solution:"
   ]
  },
  {
   "cell_type": "code",
   "execution_count": 3,
   "metadata": {},
   "outputs": [
    {
     "data": {
      "text/plain": [
       "0.5"
      ]
     },
     "execution_count": 3,
     "metadata": {},
     "output_type": "execute_result"
    }
   ],
   "source": [
    "def accuracy_score(true, pred):\n",
    "    return sum(map(lambda x, y: 1 if x == y else 0, true, pred)) / len(true)\n",
    "\n",
    "x = [[0,0], [1,1], [1,0], [0,1]]\n",
    "y = [0, 0, 1, 1]\n",
    "\n",
    "model = LogisticRegression()\n",
    "model.fit(x, y)\n",
    "preds = model.predict(x)\n",
    "\n",
    "accuracy_score(y, preds)"
   ]
  },
  {
   "cell_type": "markdown",
   "metadata": {},
   "source": [
    "## XOR with PyTorch\n",
    "\n",
    "Learns XOR using a small neural network in PyTorch."
   ]
  },
  {
   "cell_type": "code",
   "execution_count": 5,
   "metadata": {},
   "outputs": [
    {
     "name": "stdout",
     "output_type": "stream",
     "text": [
      "Batch: 10000 -- loss: 0.0008"
     ]
    }
   ],
   "source": [
    "# neural network\n",
    "class Net(nn.Module):\n",
    "    def __init__(self, input_size, hidden_size, output_size):\n",
    "        super().__init__()\n",
    "        self.layer1 = nn.Linear(input_size, hidden_size)\n",
    "        self.layer2 = nn.Linear(hidden_size, output_size)\n",
    "        self.relu = nn.ReLU()\n",
    "        self.sigmoid = nn.Sigmoid()\n",
    "\n",
    "    def forward(self, x):\n",
    "        x = self.relu(self.layer1(x))\n",
    "        x = self.sigmoid(self.layer2(x))\n",
    "        return x\n",
    "    \n",
    "    def train(self, data_loader, optimizer, loss_fn):\n",
    "        for i, (inputs, targets) in enumerate(data_loader):\n",
    "            optimizer.zero_grad()\n",
    "            outputs = model(inputs)\n",
    "            loss = loss_fn(outputs, targets)\n",
    "            loss.backward()\n",
    "            optimizer.step()\n",
    "            print('\\rBatch: {} -- loss: {}'.format(i+1, format(loss.data[0], '.4f')), end='')\n",
    "\n",
    "# data loader\n",
    "def data_generator(x_train, y_train, n_batch, batch_size):\n",
    "    for _ in range(n_batch):\n",
    "        x = np.array([])\n",
    "        y = np.array([])\n",
    "        for _ in range(batch_size):\n",
    "            r = np.random.randint(0, 4)\n",
    "            x = np.append(x, x_train[r])\n",
    "            y = np.append(y, y_train[r])\n",
    "        x = Variable(torch.from_numpy(x.reshape(-1, 2))).float()\n",
    "        y = Variable(torch.from_numpy(y)).float()\n",
    "        yield x, y\n",
    "        \n",
    "def one_hot_encode(n_class, x):\n",
    "    return np.array(list(map(lambda i: np.eye(n_class)[i], x)))\n",
    "\n",
    "x = np.array(x)\n",
    "y_ohe = one_hot_encode(2, y)\n",
    "\n",
    "# hyperparameters\n",
    "input_size = x.shape[1]\n",
    "hidden_size = 3\n",
    "output_size = y_ohe.shape[1]\n",
    "learning_rate = 0.001\n",
    "batch_size = 10\n",
    "n_batch = 10000\n",
    "\n",
    "# instantiate model\n",
    "model = Net(input_size, hidden_size, output_size)\n",
    "\n",
    "# set loss function, optimizer and data_loader\n",
    "loss_fn = nn.MSELoss()\n",
    "optimizer = torch.optim.Adam(model.parameters(), lr=learning_rate)\n",
    "data_loader = data_generator(x, y_ohe, n_batch, batch_size)\n",
    "\n",
    "# train model\n",
    "model.train(data_loader, optimizer, loss_fn)"
   ]
  },
  {
   "cell_type": "markdown",
   "metadata": {},
   "source": [
    "## XOR with Numpy\n",
    "\n",
    "Uses weights from trained PyTorch network"
   ]
  },
  {
   "cell_type": "code",
   "execution_count": 6,
   "metadata": {},
   "outputs": [
    {
     "data": {
      "text/plain": [
       "[True, True, False, False]"
      ]
     },
     "execution_count": 6,
     "metadata": {},
     "output_type": "execute_result"
    }
   ],
   "source": [
    "# get weights and biases from trained model\n",
    "params = model.state_dict()\n",
    "W = [params[w].numpy() for w in ['layer1.weight', 'layer2.weight']]\n",
    "b = [params[b].numpy() for b in ['layer1.bias', 'layer2.bias']]\n",
    "\n",
    "# sigmoid activation function\n",
    "def sigmoid(x):\n",
    "    return list(map(lambda i: 1/(1+np.exp(i)), x))\n",
    "\n",
    "# relu activation function\n",
    "def relu(x):\n",
    "    return list(map(lambda i: 0 if i <= 0 else i, x))\n",
    "\n",
    "# neural network with same architecture as PyTorch one\n",
    "def neural_net(inputs):\n",
    "    return list(map(lambda x: sigmoid(W[1] @ relu(W[0] @ x + b[0]) + b[1]), inputs))\n",
    "\n",
    "# test if XOR\n",
    "def is_XOR(inputs):\n",
    "    outputs = neural_net(inputs)\n",
    "    return list(map(lambda x: True if np.argmax(x) == 0 else False, outputs))\n",
    "\n",
    "is_XOR([[1,0],  # TRUE\n",
    "        [0,1],  # TRUE\n",
    "        [0,0],  # FALSE\n",
    "        [1,1]]) # FALSE"
   ]
  },
  {
   "cell_type": "markdown",
   "metadata": {},
   "source": [
    "By visualizing the output of the first layer, we see that the neural network first maps the data to a linear problem, after which the second layer is able to find a solution."
   ]
  },
  {
   "cell_type": "code",
   "execution_count": 7,
   "metadata": {},
   "outputs": [
    {
     "data": {
      "image/png": "[encoded data removed]",
      "text/plain": [
       "<matplotlib.figure.Figure at 0x18f02aab128>"
      ]
     },
     "metadata": {},
     "output_type": "display_data"
    }
   ],
   "source": [
    "# neural network returning the hidden layer output\n",
    "def neural_net_hidden(inputs):\n",
    "    return list(map(lambda x: relu(W[0] @ x + b[0]), inputs))\n",
    "\n",
    "hidden_out = neural_net_hidden(x)\n",
    "\n",
    "fig, ax = plt.subplots(figsize=(3,3))\n",
    "ax.scatter(hidden_out[0][0], hidden_out[0][1], c='r', label='False')\n",
    "ax.scatter(hidden_out[1][0], hidden_out[1][1], c='r')\n",
    "ax.scatter(hidden_out[2][0], hidden_out[2][1], c='b', label='True')\n",
    "ax.scatter(hidden_out[3][0], hidden_out[3][1], c='b')\n",
    "legend = ax.legend(loc='best')\n",
    "plt.show()"
   ]
  },
  {
   "cell_type": "markdown",
   "metadata": {},
   "source": [
    "In fact, any linear model will be able to find a solution now."
   ]
  },
  {
   "cell_type": "code",
   "execution_count": 8,
   "metadata": {},
   "outputs": [
    {
     "data": {
      "text/plain": [
       "1.0"
      ]
     },
     "execution_count": 8,
     "metadata": {},
     "output_type": "execute_result"
    }
   ],
   "source": [
    "model = LogisticRegression()\n",
    "model.fit(hidden_out, y)\n",
    "preds = model.predict(hidden_out)\n",
    "\n",
    "accuracy_score(y, preds)"
   ]
  }
 ],
 "metadata": {
  "kernelspec": {
   "display_name": "Python 3",
   "language": "python",
   "name": "python3"
  },
  "language_info": {
   "codemirror_mode": {
    "name": "ipython",
    "version": 3
   },
   "file_extension": ".py",
   "mimetype": "text/x-python",
   "name": "python",
   "nbconvert_exporter": "python",
   "pygments_lexer": "ipython3",
   "version": "3.6.1"
  }
 },
 "nbformat": 4,
 "nbformat_minor": 2
}
