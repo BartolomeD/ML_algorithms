{
 "cells": [
  {
   "cell_type": "code",
   "execution_count": 1,
   "metadata": {},
   "outputs": [],
   "source": [
    "from stack_ensembler import StackEnsemble\n",
    "\n",
    "import pandas as pd\n",
    "from sklearn.datasets import make_classification\n",
    "from sklearn.model_selection import train_test_split\n",
    "from sklearn.metrics import classification_report, accuracy_score\n",
    "\n",
    "from sklearn.ensemble import RandomForestClassifier\n",
    "from sklearn.neighbors import KNeighborsClassifier\n",
    "from sklearn.neural_network import MLPClassifier\n",
    "from sklearn.linear_model import LogisticRegression"
   ]
  },
  {
   "cell_type": "code",
   "execution_count": 2,
   "metadata": {},
   "outputs": [
    {
     "data": {
      "text/html": [
       "<div>\n",
       "<table border=\"1\" class=\"dataframe\">\n",
       "  <thead>\n",
       "    <tr style=\"text-align: right;\">\n",
       "      <th></th>\n",
       "      <th>0</th>\n",
       "      <th>1</th>\n",
       "      <th>2</th>\n",
       "      <th>3</th>\n",
       "      <th>4</th>\n",
       "    </tr>\n",
       "  </thead>\n",
       "  <tbody>\n",
       "    <tr>\n",
       "      <th>0</th>\n",
       "      <td>0.910363</td>\n",
       "      <td>-1.555301</td>\n",
       "      <td>0.090764</td>\n",
       "      <td>0.691861</td>\n",
       "      <td>0.262369</td>\n",
       "    </tr>\n",
       "    <tr>\n",
       "      <th>1</th>\n",
       "      <td>2.750141</td>\n",
       "      <td>-1.860651</td>\n",
       "      <td>2.043508</td>\n",
       "      <td>2.002125</td>\n",
       "      <td>-0.533600</td>\n",
       "    </tr>\n",
       "    <tr>\n",
       "      <th>2</th>\n",
       "      <td>0.539690</td>\n",
       "      <td>-1.201483</td>\n",
       "      <td>-0.120428</td>\n",
       "      <td>0.418815</td>\n",
       "      <td>0.286138</td>\n",
       "    </tr>\n",
       "    <tr>\n",
       "      <th>3</th>\n",
       "      <td>0.940785</td>\n",
       "      <td>-0.445974</td>\n",
       "      <td>0.817847</td>\n",
       "      <td>0.678995</td>\n",
       "      <td>-0.271577</td>\n",
       "    </tr>\n",
       "    <tr>\n",
       "      <th>4</th>\n",
       "      <td>0.860166</td>\n",
       "      <td>-1.018003</td>\n",
       "      <td>0.367286</td>\n",
       "      <td>0.639720</td>\n",
       "      <td>0.036883</td>\n",
       "    </tr>\n",
       "  </tbody>\n",
       "</table>\n",
       "</div>"
      ],
      "text/plain": [
       "          0         1         2         3         4\n",
       "0  0.910363 -1.555301  0.090764  0.691861  0.262369\n",
       "1  2.750141 -1.860651  2.043508  2.002125 -0.533600\n",
       "2  0.539690 -1.201483 -0.120428  0.418815  0.286138\n",
       "3  0.940785 -0.445974  0.817847  0.678995 -0.271577\n",
       "4  0.860166 -1.018003  0.367286  0.639720  0.036883"
      ]
     },
     "execution_count": 2,
     "metadata": {},
     "output_type": "execute_result"
    }
   ],
   "source": [
    "# generate toy dataset\n",
    "x_train, y_train = make_classification(n_samples=1000, n_features=5, n_informative=2, \n",
    "                                       n_redundant=3, random_state=42)\n",
    "\n",
    "# create train-test split\n",
    "x_train, x_test, y_train, y_test = train_test_split(x_train, y_train, test_size=0.25)\n",
    "\n",
    "# print dataset\n",
    "pd.DataFrame(x_train).head()"
   ]
  },
  {
   "cell_type": "code",
   "execution_count": 3,
   "metadata": {},
   "outputs": [
    {
     "name": "stdout",
     "output_type": "stream",
     "text": [
      "Getting predictions from RandomForestClassifier..\n",
      "Getting predictions from KNeighborsClassifier..\n",
      "Getting predictions from MLPClassifier..\n"
     ]
    },
    {
     "name": "stderr",
     "output_type": "stream",
     "text": [
      "/home/daniel/miniconda3/envs/three/lib/python3.5/site-packages/sklearn/neural_network/multilayer_perceptron.py:563: ConvergenceWarning: Stochastic Optimizer: Maximum iterations reached and the optimization hasn't converged yet.\n",
      "  % (), ConvergenceWarning)\n"
     ]
    },
    {
     "data": {
      "text/html": [
       "<div>\n",
       "<table border=\"1\" class=\"dataframe\">\n",
       "  <thead>\n",
       "    <tr style=\"text-align: right;\">\n",
       "      <th></th>\n",
       "      <th>0</th>\n",
       "      <th>1</th>\n",
       "      <th>2</th>\n",
       "      <th>3</th>\n",
       "      <th>4</th>\n",
       "      <th>5</th>\n",
       "      <th>6</th>\n",
       "      <th>7</th>\n",
       "      <th>8</th>\n",
       "      <th>9</th>\n",
       "      <th>10</th>\n",
       "    </tr>\n",
       "  </thead>\n",
       "  <tbody>\n",
       "    <tr>\n",
       "      <th>0</th>\n",
       "      <td>0.910363</td>\n",
       "      <td>-1.555301</td>\n",
       "      <td>0.090764</td>\n",
       "      <td>0.691861</td>\n",
       "      <td>0.262369</td>\n",
       "      <td>0.0</td>\n",
       "      <td>1.0</td>\n",
       "      <td>0.0</td>\n",
       "      <td>1.0</td>\n",
       "      <td>0.192428</td>\n",
       "      <td>0.807572</td>\n",
       "    </tr>\n",
       "    <tr>\n",
       "      <th>1</th>\n",
       "      <td>2.750141</td>\n",
       "      <td>-1.860651</td>\n",
       "      <td>2.043508</td>\n",
       "      <td>2.002125</td>\n",
       "      <td>-0.533600</td>\n",
       "      <td>0.0</td>\n",
       "      <td>1.0</td>\n",
       "      <td>0.0</td>\n",
       "      <td>1.0</td>\n",
       "      <td>0.008147</td>\n",
       "      <td>0.991853</td>\n",
       "    </tr>\n",
       "    <tr>\n",
       "      <th>2</th>\n",
       "      <td>0.539690</td>\n",
       "      <td>-1.201483</td>\n",
       "      <td>-0.120428</td>\n",
       "      <td>0.418815</td>\n",
       "      <td>0.286138</td>\n",
       "      <td>0.4</td>\n",
       "      <td>0.6</td>\n",
       "      <td>0.0</td>\n",
       "      <td>1.0</td>\n",
       "      <td>0.400527</td>\n",
       "      <td>0.599473</td>\n",
       "    </tr>\n",
       "    <tr>\n",
       "      <th>3</th>\n",
       "      <td>0.940785</td>\n",
       "      <td>-0.445974</td>\n",
       "      <td>0.817847</td>\n",
       "      <td>0.678995</td>\n",
       "      <td>-0.271577</td>\n",
       "      <td>0.8</td>\n",
       "      <td>0.2</td>\n",
       "      <td>0.8</td>\n",
       "      <td>0.2</td>\n",
       "      <td>0.334899</td>\n",
       "      <td>0.665101</td>\n",
       "    </tr>\n",
       "    <tr>\n",
       "      <th>4</th>\n",
       "      <td>0.860166</td>\n",
       "      <td>-1.018003</td>\n",
       "      <td>0.367286</td>\n",
       "      <td>0.639720</td>\n",
       "      <td>0.036883</td>\n",
       "      <td>0.0</td>\n",
       "      <td>1.0</td>\n",
       "      <td>0.0</td>\n",
       "      <td>1.0</td>\n",
       "      <td>0.318575</td>\n",
       "      <td>0.681425</td>\n",
       "    </tr>\n",
       "  </tbody>\n",
       "</table>\n",
       "</div>"
      ],
      "text/plain": [
       "         0         1         2         3         4    5    6    7    8   \\\n",
       "0  0.910363 -1.555301  0.090764  0.691861  0.262369  0.0  1.0  0.0  1.0   \n",
       "1  2.750141 -1.860651  2.043508  2.002125 -0.533600  0.0  1.0  0.0  1.0   \n",
       "2  0.539690 -1.201483 -0.120428  0.418815  0.286138  0.4  0.6  0.0  1.0   \n",
       "3  0.940785 -0.445974  0.817847  0.678995 -0.271577  0.8  0.2  0.8  0.2   \n",
       "4  0.860166 -1.018003  0.367286  0.639720  0.036883  0.0  1.0  0.0  1.0   \n",
       "\n",
       "         9         10  \n",
       "0  0.192428  0.807572  \n",
       "1  0.008147  0.991853  \n",
       "2  0.400527  0.599473  \n",
       "3  0.334899  0.665101  \n",
       "4  0.318575  0.681425  "
      ]
     },
     "execution_count": 3,
     "metadata": {},
     "output_type": "execute_result"
    }
   ],
   "source": [
    "# define first-level models\n",
    "models = [ \n",
    "    RandomForestClassifier(), \n",
    "    KNeighborsClassifier(),\n",
    "    MLPClassifier()\n",
    "]\n",
    "\n",
    "# get data with meta-features\n",
    "x_train_stack, x_test_stack = StackEnsemble(models, x_train, y_train, x_test, proba=True, orig_data=True)\n",
    "\n",
    "# print new dataframe\n",
    "pd.DataFrame(x_train_stack).head()"
   ]
  },
  {
   "cell_type": "code",
   "execution_count": 4,
   "metadata": {},
   "outputs": [
    {
     "name": "stdout",
     "output_type": "stream",
     "text": [
      "             precision    recall  f1-score   support\n",
      "\n",
      "          0       0.87      0.85      0.86       127\n",
      "          1       0.85      0.87      0.86       123\n",
      "\n",
      "avg / total       0.86      0.86      0.86       250\n",
      "\n",
      "0.86\n"
     ]
    }
   ],
   "source": [
    "# use logistic regression on original data\n",
    "model = LogisticRegression()\n",
    "preds = model.fit(x_train, y_train).predict(x_test)\n",
    "\n",
    "# print results\n",
    "print(classification_report(preds, y_test))\n",
    "print(accuracy_score(preds, y_test))"
   ]
  },
  {
   "cell_type": "code",
   "execution_count": 5,
   "metadata": {},
   "outputs": [
    {
     "name": "stdout",
     "output_type": "stream",
     "text": [
      "             precision    recall  f1-score   support\n",
      "\n",
      "          0       0.94      0.91      0.93       128\n",
      "          1       0.91      0.94      0.93       122\n",
      "\n",
      "avg / total       0.93      0.93      0.93       250\n",
      "\n",
      "0.928\n"
     ]
    }
   ],
   "source": [
    "# use logistic regression on data with meta-features\n",
    "preds = model.fit(x_train_stack, y_train).predict(x_test_stack)\n",
    "\n",
    "# print results\n",
    "print(classification_report(preds, y_test))\n",
    "print(accuracy_score(preds, y_test))"
   ]
  }
 ],
 "metadata": {
  "kernelspec": {
   "display_name": "Python 3",
   "language": "python",
   "name": "python3"
  },
  "language_info": {
   "codemirror_mode": {
    "name": "ipython",
    "version": 3
   },
   "file_extension": ".py",
   "mimetype": "text/x-python",
   "name": "python",
   "nbconvert_exporter": "python",
   "pygments_lexer": "ipython3",
   "version": "3.5.3"
  }
 },
 "nbformat": 4,
 "nbformat_minor": 2
}
